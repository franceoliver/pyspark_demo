{
 "cells": [
  {
   "cell_type": "markdown",
   "id": "9455094f",
   "metadata": {},
   "source": [
    "### Examples of Pyspark ML"
   ]
  },
  {
   "cell_type": "code",
   "execution_count": 1,
   "id": "4441f060",
   "metadata": {},
   "outputs": [
    {
     "name": "stderr",
     "output_type": "stream",
     "text": [
      "Setting default log level to \"WARN\".\n",
      "To adjust logging level use sc.setLogLevel(newLevel). For SparkR, use setLogLevel(newLevel).\n"
     ]
    },
    {
     "name": "stdout",
     "output_type": "stream",
     "text": [
      "23/01/18 09:45:27 WARN NativeCodeLoader: Unable to load native-hadoop library for your platform... using builtin-java classes where applicable\n"
     ]
    }
   ],
   "source": [
    "from pyspark.sql import SparkSession\n",
    "spark=SparkSession.builder.appName('Missing').getOrCreate()"
   ]
  },
  {
   "cell_type": "code",
   "execution_count": 2,
   "id": "27ef8e08",
   "metadata": {},
   "outputs": [
    {
     "name": "stderr",
     "output_type": "stream",
     "text": [
      "                                                                                \r"
     ]
    }
   ],
   "source": [
    "### Read in the dataset\n",
    "training = spark.read.csv('DATA/test4.csv', header=True, inferSchema=True)"
   ]
  },
  {
   "cell_type": "code",
   "execution_count": 3,
   "id": "39072a78",
   "metadata": {},
   "outputs": [
    {
     "name": "stdout",
     "output_type": "stream",
     "text": [
      "+-------+---+----------+------+\n",
      "|   name|age|expereince|salary|\n",
      "+-------+---+----------+------+\n",
      "|  Emily| 72|        14|159850|\n",
      "|Jessica| 56|         6|211460|\n",
      "| Amanda| 22|         2|124570|\n",
      "| Amanda| 30|         9|164512|\n",
      "|Michael| 62|         4|177736|\n",
      "|  Sarah| 25|         1|165257|\n",
      "| Ashley| 28|        23|137139|\n",
      "| Amanda| 43|        15|205704|\n",
      "| Amanda| 32|         9|182715|\n",
      "|  Emily| 26|        16|208207|\n",
      "|Matthew| 57|         6|257795|\n",
      "|  Emily| 77|        22|239294|\n",
      "|Michael| 47|        20|120671|\n",
      "|Matthew| 59|        25|209227|\n",
      "|  Jacob| 62|        14|270384|\n",
      "|   John| 38|        21|281512|\n",
      "|  Emily| 24|         7|201611|\n",
      "| Ashley| 73|        22|121666|\n",
      "|Matthew| 49|         4|243129|\n",
      "|Jessica| 53|        20|112919|\n",
      "+-------+---+----------+------+\n",
      "only showing top 20 rows\n",
      "\n"
     ]
    }
   ],
   "source": [
    "training.show()"
   ]
  },
  {
   "cell_type": "code",
   "execution_count": 4,
   "id": "2effef19",
   "metadata": {},
   "outputs": [
    {
     "name": "stderr",
     "output_type": "stream",
     "text": [
      "                                                                                \r"
     ]
    },
    {
     "data": {
      "text/plain": [
       "[Row(name='Amanda', age=22, expereince=2, salary=124570),\n",
       " Row(name='Amanda', age=30, expereince=9, salary=164512),\n",
       " Row(name='Michael', age=62, expereince=4, salary=177736),\n",
       " Row(name='Sarah', age=25, expereince=1, salary=165257)]"
      ]
     },
     "execution_count": 4,
     "metadata": {},
     "output_type": "execute_result"
    }
   ],
   "source": [
    "# Slicing the df\n",
    "training.collect()[2:6]"
   ]
  },
  {
   "cell_type": "code",
   "execution_count": 5,
   "id": "bc1831c1",
   "metadata": {},
   "outputs": [
    {
     "name": "stdout",
     "output_type": "stream",
     "text": [
      "root\n",
      " |-- name: string (nullable = true)\n",
      " |-- age: integer (nullable = true)\n",
      " |-- expereince: integer (nullable = true)\n",
      " |-- salary: integer (nullable = true)\n",
      "\n"
     ]
    }
   ],
   "source": [
    "# Printing Schema \n",
    "training.printSchema()"
   ]
  },
  {
   "cell_type": "code",
   "execution_count": 8,
   "id": "cec2cccf",
   "metadata": {},
   "outputs": [],
   "source": [
    "# Importing Vector Assembler\n",
    "from pyspark.ml.feature import VectorAssembler\n",
    "featureassembler = VectorAssembler(inputCols=['age', 'expereince'], outputCol='independent features')"
   ]
  },
  {
   "cell_type": "code",
   "execution_count": 9,
   "id": "732e0d6a",
   "metadata": {},
   "outputs": [],
   "source": [
    "output = featureassembler.transform(training)"
   ]
  },
  {
   "cell_type": "code",
   "execution_count": 11,
   "id": "23ce9b27",
   "metadata": {},
   "outputs": [
    {
     "name": "stdout",
     "output_type": "stream",
     "text": [
      "+-------+---+----------+------+--------------------+\n",
      "|   name|age|expereince|salary|independent features|\n",
      "+-------+---+----------+------+--------------------+\n",
      "|  Emily| 72|        14|159850|         [72.0,14.0]|\n",
      "|Jessica| 56|         6|211460|          [56.0,6.0]|\n",
      "| Amanda| 22|         2|124570|          [22.0,2.0]|\n",
      "+-------+---+----------+------+--------------------+\n",
      "only showing top 3 rows\n",
      "\n"
     ]
    }
   ],
   "source": [
    "output.show(3)"
   ]
  },
  {
   "cell_type": "code",
   "execution_count": 12,
   "id": "7c47477c",
   "metadata": {},
   "outputs": [
    {
     "data": {
      "text/plain": [
       "['name', 'age', 'expereince', 'salary', 'independent features']"
      ]
     },
     "execution_count": 12,
     "metadata": {},
     "output_type": "execute_result"
    }
   ],
   "source": [
    "output.columns"
   ]
  },
  {
   "cell_type": "code",
   "execution_count": 13,
   "id": "050b6589",
   "metadata": {},
   "outputs": [],
   "source": [
    "finalized_data = output.select('independent features', 'salary')"
   ]
  },
  {
   "cell_type": "code",
   "execution_count": 14,
   "id": "036bd78b",
   "metadata": {},
   "outputs": [
    {
     "name": "stdout",
     "output_type": "stream",
     "text": [
      "+--------------------+------+\n",
      "|independent features|salary|\n",
      "+--------------------+------+\n",
      "|         [72.0,14.0]|159850|\n",
      "|          [56.0,6.0]|211460|\n",
      "|          [22.0,2.0]|124570|\n",
      "+--------------------+------+\n",
      "only showing top 3 rows\n",
      "\n"
     ]
    }
   ],
   "source": [
    "finalized_data.show(3)"
   ]
  },
  {
   "cell_type": "code",
   "execution_count": 15,
   "id": "457ec55c",
   "metadata": {},
   "outputs": [
    {
     "name": "stdout",
     "output_type": "stream",
     "text": [
      "23/01/18 10:23:54 WARN Instrumentation: [1e4821b2] regParam is zero, which might cause numerical instability and overfitting.\n"
     ]
    },
    {
     "name": "stderr",
     "output_type": "stream",
     "text": [
      "\r",
      "[Stage 7:>                                                          (0 + 5) / 5]\r"
     ]
    },
    {
     "name": "stdout",
     "output_type": "stream",
     "text": [
      "23/01/18 10:23:57 WARN InstanceBuilder$NativeBLAS: Failed to load implementation from:dev.ludovic.netlib.blas.JNIBLAS\n",
      "23/01/18 10:23:57 WARN InstanceBuilder$NativeBLAS: Failed to load implementation from:dev.ludovic.netlib.blas.ForeignLinkerBLAS\n"
     ]
    },
    {
     "name": "stderr",
     "output_type": "stream",
     "text": [
      "\r",
      "                                                                                \r"
     ]
    },
    {
     "name": "stdout",
     "output_type": "stream",
     "text": [
      "23/01/18 10:23:58 WARN InstanceBuilder$NativeLAPACK: Failed to load implementation from:dev.ludovic.netlib.lapack.JNILAPACK\n"
     ]
    },
    {
     "name": "stderr",
     "output_type": "stream",
     "text": [
      "                                                                                \r"
     ]
    }
   ],
   "source": [
    "## ML regression\n",
    "from pyspark.ml.regression import LinearRegression\n",
    "## Train test split\n",
    "train_data, test_data = finalized_data.randomSplit([0.75, 0.25])\n",
    "regressor = LinearRegression(featuresCol='independent features', labelCol='salary')\n",
    "regressor = regressor.fit(train_data)"
   ]
  },
  {
   "cell_type": "code",
   "execution_count": 16,
   "id": "86ef075f",
   "metadata": {},
   "outputs": [
    {
     "data": {
      "text/plain": [
       "DenseVector([-8.4975, 3.7774])"
      ]
     },
     "execution_count": 16,
     "metadata": {},
     "output_type": "execute_result"
    }
   ],
   "source": [
    "## Coefficients\n",
    "regressor.coefficients"
   ]
  },
  {
   "cell_type": "code",
   "execution_count": 17,
   "id": "0f1aed96",
   "metadata": {},
   "outputs": [
    {
     "data": {
      "text/plain": [
       "187975.46140886357"
      ]
     },
     "execution_count": 17,
     "metadata": {},
     "output_type": "execute_result"
    }
   ],
   "source": [
    "## Intercepts\n",
    "regressor.intercept"
   ]
  },
  {
   "cell_type": "code",
   "execution_count": 20,
   "id": "f394e3bf",
   "metadata": {},
   "outputs": [
    {
     "name": "stderr",
     "output_type": "stream",
     "text": [
      "                                                                                \r"
     ]
    }
   ],
   "source": [
    "## Prediction \n",
    "pred_results=regressor.evaluate(test_data)"
   ]
  },
  {
   "cell_type": "code",
   "execution_count": 21,
   "id": "5cca0359",
   "metadata": {},
   "outputs": [
    {
     "name": "stderr",
     "output_type": "stream",
     "text": [
      "\r",
      "[Stage 10:>                                                         (0 + 1) / 1]\r",
      "\r",
      "                                                                                \r"
     ]
    },
    {
     "name": "stdout",
     "output_type": "stream",
     "text": [
      "+--------------------+------+------------------+\n",
      "|independent features|salary|        prediction|\n",
      "+--------------------+------+------------------+\n",
      "|          [18.0,1.0]| 87385|187826.28466400618|\n",
      "|          [18.0,1.0]|110685|187826.28466400618|\n",
      "|          [18.0,1.0]|111719|187826.28466400618|\n",
      "|          [18.0,1.0]|120056|187826.28466400618|\n",
      "|          [18.0,1.0]|120234|187826.28466400618|\n",
      "|          [18.0,1.0]|122866|187826.28466400618|\n",
      "|          [18.0,1.0]|129809|187826.28466400618|\n",
      "|          [18.0,1.0]|132495|187826.28466400618|\n",
      "|          [18.0,1.0]|139245|187826.28466400618|\n",
      "|          [18.0,1.0]|153239|187826.28466400618|\n",
      "|          [18.0,1.0]|154343|187826.28466400618|\n",
      "|          [18.0,1.0]|167013|187826.28466400618|\n",
      "|          [18.0,1.0]|174737|187826.28466400618|\n",
      "|          [18.0,1.0]|189779|187826.28466400618|\n",
      "|          [18.0,1.0]|201507|187826.28466400618|\n",
      "|          [18.0,1.0]|204241|187826.28466400618|\n",
      "|          [18.0,1.0]|221052|187826.28466400618|\n",
      "|          [18.0,1.0]|221706|187826.28466400618|\n",
      "|          [18.0,1.0]|229515|187826.28466400618|\n",
      "|          [18.0,1.0]|239384|187826.28466400618|\n",
      "+--------------------+------+------------------+\n",
      "only showing top 20 rows\n",
      "\n"
     ]
    }
   ],
   "source": [
    "pred_results.predictions.show()"
   ]
  },
  {
   "cell_type": "code",
   "execution_count": 22,
   "id": "e54b737b",
   "metadata": {},
   "outputs": [
    {
     "data": {
      "text/plain": [
       "(56296.5176771802, 4225077951.5808015)"
      ]
     },
     "execution_count": 22,
     "metadata": {},
     "output_type": "execute_result"
    }
   ],
   "source": [
    "pred_results.meanAbsoluteError, pred_results.meanSquaredError"
   ]
  },
  {
   "cell_type": "code",
   "execution_count": null,
   "id": "7ea03ae8",
   "metadata": {},
   "outputs": [],
   "source": []
  }
 ],
 "metadata": {
  "kernelspec": {
   "display_name": "Python 3 (ipykernel)",
   "language": "python",
   "name": "python3"
  },
  "language_info": {
   "codemirror_mode": {
    "name": "ipython",
    "version": 3
   },
   "file_extension": ".py",
   "mimetype": "text/x-python",
   "name": "python",
   "nbconvert_exporter": "python",
   "pygments_lexer": "ipython3",
   "version": "3.11.1"
  }
 },
 "nbformat": 4,
 "nbformat_minor": 5
}
