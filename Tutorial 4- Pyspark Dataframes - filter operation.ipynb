{
 "cells": [
  {
   "cell_type": "markdown",
   "id": "585aa111",
   "metadata": {},
   "source": [
    "### Pyspark Dataframes\n",
    "- Filter Operation\n",
    "- &,|,==\n",
    "- ~"
   ]
  },
  {
   "cell_type": "code",
   "execution_count": 1,
   "id": "0ffc54d4",
   "metadata": {},
   "outputs": [],
   "source": [
    "from pyspark.sql import SparkSession"
   ]
  },
  {
   "cell_type": "code",
   "execution_count": 3,
   "id": "985062c6",
   "metadata": {},
   "outputs": [
    {
     "name": "stderr",
     "output_type": "stream",
     "text": [
      "Setting default log level to \"WARN\".\n",
      "To adjust logging level use sc.setLogLevel(newLevel). For SparkR, use setLogLevel(newLevel).\n"
     ]
    },
    {
     "name": "stdout",
     "output_type": "stream",
     "text": [
      "23/01/17 17:09:45 WARN NativeCodeLoader: Unable to load native-hadoop library for your platform... using builtin-java classes where applicable\n"
     ]
    }
   ],
   "source": [
    "spark=SparkSession.builder.appName('dataframe').getOrCreate()"
   ]
  },
  {
   "cell_type": "code",
   "execution_count": 6,
   "id": "3948eeda",
   "metadata": {},
   "outputs": [
    {
     "name": "stdout",
     "output_type": "stream",
     "text": [
      "+-------+---+----------+------+\n",
      "|   name|age|expereince|salary|\n",
      "+-------+---+----------+------+\n",
      "|  Emily| 72|        14|159850|\n",
      "|Jessica| 56|         6|211460|\n",
      "| Amanda| 22|         2|124570|\n",
      "+-------+---+----------+------+\n",
      "only showing top 3 rows\n",
      "\n"
     ]
    }
   ],
   "source": [
    "df_pyspark=spark.read.csv('DATA/test4.csv', header=True, inferSchema=True)\n",
    "df_pyspark.show(3)"
   ]
  },
  {
   "cell_type": "code",
   "execution_count": 11,
   "id": "84dc3cda",
   "metadata": {},
   "outputs": [
    {
     "name": "stdout",
     "output_type": "stream",
     "text": [
      "+-------+---+----------+------+\n",
      "|   name|age|expereince|salary|\n",
      "+-------+---+----------+------+\n",
      "|  Emily| 36|         9| 79527|\n",
      "|Michael| 59|        10| 77353|\n",
      "|  David| 28|         7| 76189|\n",
      "+-------+---+----------+------+\n",
      "only showing top 3 rows\n",
      "\n"
     ]
    }
   ],
   "source": [
    "### Filter Operations\n",
    "## Salary of the people who are less than or equal to 80000\n",
    "# Option 1\n",
    "df_pyspark.filter('salary<=80000').show(3)"
   ]
  },
  {
   "cell_type": "code",
   "execution_count": 13,
   "id": "5ba52910",
   "metadata": {},
   "outputs": [
    {
     "name": "stdout",
     "output_type": "stream",
     "text": [
      "+-------+---+\n",
      "|   name|age|\n",
      "+-------+---+\n",
      "|  Emily| 36|\n",
      "|Michael| 59|\n",
      "|  David| 28|\n",
      "+-------+---+\n",
      "only showing top 3 rows\n",
      "\n"
     ]
    }
   ],
   "source": [
    "# Selecting name and age only with filter\n",
    "df_pyspark.filter('salary<=80000').select(['name', 'age']).show(3)"
   ]
  },
  {
   "cell_type": "code",
   "execution_count": 18,
   "id": "7b0ebf39",
   "metadata": {},
   "outputs": [
    {
     "name": "stdout",
     "output_type": "stream",
     "text": [
      "+-------+---+----------+------+\n",
      "|   name|age|expereince|salary|\n",
      "+-------+---+----------+------+\n",
      "|  Emily| 36|         9| 79527|\n",
      "|  David| 53|        11| 78574|\n",
      "|Jessica| 79|         4| 78043|\n",
      "+-------+---+----------+------+\n",
      "only showing top 3 rows\n",
      "\n"
     ]
    }
   ],
   "source": [
    "# Option 2\n",
    "df_pyspark.filter((df_pyspark['salary']< 80000) & \n",
    "                  (df_pyspark['salary']>78000)).show(3)"
   ]
  },
  {
   "cell_type": "code",
   "execution_count": null,
   "id": "669ef9b3",
   "metadata": {},
   "outputs": [],
   "source": []
  },
  {
   "cell_type": "code",
   "execution_count": null,
   "id": "432c884a",
   "metadata": {},
   "outputs": [],
   "source": []
  }
 ],
 "metadata": {
  "kernelspec": {
   "display_name": "Python 3 (ipykernel)",
   "language": "python",
   "name": "python3"
  },
  "language_info": {
   "codemirror_mode": {
    "name": "ipython",
    "version": 3
   },
   "file_extension": ".py",
   "mimetype": "text/x-python",
   "name": "python",
   "nbconvert_exporter": "python",
   "pygments_lexer": "ipython3",
   "version": "3.11.1"
  }
 },
 "nbformat": 4,
 "nbformat_minor": 5
}
