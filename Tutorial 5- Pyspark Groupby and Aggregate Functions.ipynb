{
 "cells": [
  {
   "cell_type": "markdown",
   "id": "c5e7519e",
   "metadata": {},
   "source": [
    "Pyspark Group by and Aggregate Functions"
   ]
  },
  {
   "cell_type": "code",
   "execution_count": 1,
   "id": "f24ee927",
   "metadata": {},
   "outputs": [],
   "source": [
    "from pyspark.sql import SparkSession"
   ]
  },
  {
   "cell_type": "code",
   "execution_count": 2,
   "id": "3fd518f4",
   "metadata": {},
   "outputs": [
    {
     "name": "stderr",
     "output_type": "stream",
     "text": [
      "Setting default log level to \"WARN\".\n",
      "To adjust logging level use sc.setLogLevel(newLevel). For SparkR, use setLogLevel(newLevel).\n"
     ]
    },
    {
     "name": "stdout",
     "output_type": "stream",
     "text": [
      "23/01/18 09:47:35 WARN NativeCodeLoader: Unable to load native-hadoop library for your platform... using builtin-java classes where applicable\n",
      "23/01/18 09:47:36 WARN Utils: Service 'SparkUI' could not bind on port 4040. Attempting port 4041.\n"
     ]
    }
   ],
   "source": [
    "spark=SparkSession.builder.appName('Aggo').getOrCreate()"
   ]
  },
  {
   "cell_type": "code",
   "execution_count": 3,
   "id": "81326003",
   "metadata": {},
   "outputs": [
    {
     "data": {
      "text/html": [
       "\n",
       "            <div>\n",
       "                <p><b>SparkSession - in-memory</b></p>\n",
       "                \n",
       "        <div>\n",
       "            <p><b>SparkContext</b></p>\n",
       "\n",
       "            <p><a href=\"http://nicks-air-2:4041\">Spark UI</a></p>\n",
       "\n",
       "            <dl>\n",
       "              <dt>Version</dt>\n",
       "                <dd><code>v3.3.1</code></dd>\n",
       "              <dt>Master</dt>\n",
       "                <dd><code>local[*]</code></dd>\n",
       "              <dt>AppName</dt>\n",
       "                <dd><code>Aggo</code></dd>\n",
       "            </dl>\n",
       "        </div>\n",
       "        \n",
       "            </div>\n",
       "        "
      ],
      "text/plain": [
       "<pyspark.sql.session.SparkSession at 0x10bef7fd0>"
      ]
     },
     "execution_count": 3,
     "metadata": {},
     "output_type": "execute_result"
    }
   ],
   "source": [
    "spark"
   ]
  },
  {
   "cell_type": "code",
   "execution_count": 4,
   "id": "b90fa9e0",
   "metadata": {},
   "outputs": [
    {
     "name": "stderr",
     "output_type": "stream",
     "text": [
      "                                                                                \r"
     ]
    }
   ],
   "source": [
    "df_pyspark=spark.read.csv('DATA/test5.csv', header=True, inferSchema=True)"
   ]
  },
  {
   "cell_type": "code",
   "execution_count": 5,
   "id": "d9ea653a",
   "metadata": {},
   "outputs": [
    {
     "name": "stdout",
     "output_type": "stream",
     "text": [
      "+-------+------------+------+\n",
      "|   name|        dept|salary|\n",
      "+-------+------------+------+\n",
      "|Michael|         IOT| 83329|\n",
      "|  Emily|         IOT|107214|\n",
      "|Jessica|Data Science| 80980|\n",
      "|Matthew|Data Science|180157|\n",
      "|  Jacob|         IOT|242612|\n",
      "|  Jacob|         IOT|118777|\n",
      "|  Sarah|         IOT| 75133|\n",
      "|  Emily|Data Science|128634|\n",
      "|  Sarah|         IOT|115306|\n",
      "|  Jacob|Data Science|153004|\n",
      "+-------+------------+------+\n",
      "only showing top 10 rows\n",
      "\n"
     ]
    }
   ],
   "source": [
    "df_pyspark.show(10)"
   ]
  },
  {
   "cell_type": "code",
   "execution_count": 6,
   "id": "e663e522",
   "metadata": {},
   "outputs": [
    {
     "name": "stderr",
     "output_type": "stream",
     "text": [
      "                                                                                \r"
     ]
    },
    {
     "data": {
      "text/plain": [
       "[Row(dept='IOT'), Row(dept='Big Data'), Row(dept='Data Science')]"
      ]
     },
     "execution_count": 6,
     "metadata": {},
     "output_type": "execute_result"
    }
   ],
   "source": [
    "#Finding all distinct values for dept\n",
    "df_pyspark.select('dept').distinct().collect()"
   ]
  },
  {
   "cell_type": "code",
   "execution_count": 7,
   "id": "6975e5e9",
   "metadata": {},
   "outputs": [
    {
     "name": "stdout",
     "output_type": "stream",
     "text": [
      "root\n",
      " |-- name: string (nullable = true)\n",
      " |-- dept: string (nullable = true)\n",
      " |-- salary: integer (nullable = true)\n",
      "\n"
     ]
    }
   ],
   "source": [
    "# Finding Schema\n",
    "df_pyspark.printSchema()"
   ]
  },
  {
   "cell_type": "code",
   "execution_count": 8,
   "id": "083077d7",
   "metadata": {},
   "outputs": [
    {
     "name": "stderr",
     "output_type": "stream",
     "text": [
      "\r",
      "[Stage 6:>                                                          (0 + 6) / 6]\r"
     ]
    },
    {
     "name": "stdout",
     "output_type": "stream",
     "text": [
      "+-------+-----------+\n",
      "|   name|sum(salary)|\n",
      "+-------+-----------+\n",
      "| Amanda|18803146012|\n",
      "|Matthew|18818664079|\n",
      "|  Jacob|18715995465|\n",
      "|Michael|18814683490|\n",
      "|  Sarah|18815117452|\n",
      "| Ashley|18791877429|\n",
      "|   John|18840013799|\n",
      "|  Emily|18693075710|\n",
      "|Jessica|18601128172|\n",
      "|  David|18699924212|\n",
      "+-------+-----------+\n",
      "\n"
     ]
    },
    {
     "name": "stderr",
     "output_type": "stream",
     "text": [
      "\r",
      "                                                                                \r"
     ]
    }
   ],
   "source": [
    "### Group by \n",
    "## Grouped to find the maximum salary\n",
    "df_pyspark.groupBy('name').sum().show()"
   ]
  },
  {
   "cell_type": "code",
   "execution_count": 13,
   "id": "d4745b74",
   "metadata": {},
   "outputs": [
    {
     "name": "stdout",
     "output_type": "stream",
     "text": [
      "+------------+-----------+\n",
      "|        dept|max(salary)|\n",
      "+------------+-----------+\n",
      "|         IOT|     300000|\n",
      "|    Big Data|     300000|\n",
      "|Data Science|     300000|\n",
      "+------------+-----------+\n",
      "\n"
     ]
    }
   ],
   "source": [
    "## Groupby dept which gives max salary \n",
    "df_pyspark.groupBy('dept').max().show()"
   ]
  },
  {
   "cell_type": "code",
   "execution_count": 14,
   "id": "5689da0e",
   "metadata": {},
   "outputs": [
    {
     "name": "stderr",
     "output_type": "stream",
     "text": [
      "\r",
      "[Stage 18:>                                                         (0 + 6) / 6]\r"
     ]
    },
    {
     "name": "stdout",
     "output_type": "stream",
     "text": [
      "+------------+-----------+-----------+-----------+\n",
      "|        dept|min(salary)|max(salary)|sum(salary)|\n",
      "+------------+-----------+-----------+-----------+\n",
      "|         IOT|      75000|     300000|62466571294|\n",
      "|    Big Data|      75001|     300000|62491438402|\n",
      "|Data Science|      75000|     300000|62635616124|\n",
      "+------------+-----------+-----------+-----------+\n",
      "\n"
     ]
    },
    {
     "name": "stderr",
     "output_type": "stream",
     "text": [
      "\r",
      "                                                                                \r"
     ]
    }
   ],
   "source": [
    "## Using the agg function for multiple aggs\n",
    "from pyspark.sql import functions as F\n",
    "\n",
    "df_pyspark.groupBy('dept').agg(F.min('salary'),\n",
    "                              F.max('salary'),\n",
    "                              F.sum('salary')).show()"
   ]
  },
  {
   "cell_type": "code",
   "execution_count": null,
   "id": "a0835ca5",
   "metadata": {},
   "outputs": [],
   "source": []
  }
 ],
 "metadata": {
  "kernelspec": {
   "display_name": "Python 3 (ipykernel)",
   "language": "python",
   "name": "python3"
  },
  "language_info": {
   "codemirror_mode": {
    "name": "ipython",
    "version": 3
   },
   "file_extension": ".py",
   "mimetype": "text/x-python",
   "name": "python",
   "nbconvert_exporter": "python",
   "pygments_lexer": "ipython3",
   "version": "3.11.1"
  }
 },
 "nbformat": 4,
 "nbformat_minor": 5
}
